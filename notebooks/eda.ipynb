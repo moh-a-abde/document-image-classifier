{
  "cells": [
    {
      "cell_type": "markdown",
      "metadata": {},
      "source": [
        "# Document Image Classification - Exploratory Data Analysis\n",
        "\n",
        "This notebook explores the document image classification dataset, which consists of:\n",
        "- Images (TIF format)\n",
        "- OCR text data (TXT files)\n",
        "\n",
        "The goal is to understand the characteristics of the data before building our models."
      ]
    },
    {
      "cell_type": "code",
      "execution_count": 1,
      "metadata": {},
      "outputs": [],
      "source": [
        "# Import necessary libraries\n",
        "import os, glob, json, re\n",
        "import numpy as np\n",
        "import pandas as pd\n",
        "import matplotlib.pyplot as plt\n",
        "import seaborn as sns\n",
        "from collections import Counter\n",
        "import cv2\n",
        "from nltk.corpus import stopwords\n",
        "\n",
        "# Configure plots\n",
        "plt.style.use('seaborn-v0_8')\n",
        "%matplotlib inline\n",
        "sns.set(font_scale=1.2)\n",
        "plt.rcParams['figure.figsize'] = (12, 8)\n"
      ]
    },
    {
      "cell_type": "markdown",
      "metadata": {},
      "source": [
        "## 1. Data Loading\n",
        "\n",
        "First, let's locate our data directories and check the structure."
      ]
    },
    {
      "cell_type": "code",
      "execution_count": 2,
      "metadata": {},
      "outputs": [
        {
          "name": "stdout",
          "output_type": "stream",
          "text": [
            "Image directory exists: True\n",
            "OCR directory exists: True\n",
            "\n",
            "Image classes: ['0', '2', '4', '6', '9']\n",
            "OCR classes: ['0', '2', '4', '6', '9']\n"
          ]
        }
      ],
      "source": [
        "# Define paths to data directories\n",
        "base_dir = os.path.join('..', 'data')  # Relative to this notebook\n",
        "image_dir = os.path.join(base_dir, 'images')\n",
        "ocr_dir = os.path.join(base_dir, 'ocr')\n",
        "\n",
        "# Check that directories exist\n",
        "print(f\"Image directory exists: {os.path.exists(image_dir)}\")\n",
        "print(f\"OCR directory exists: {os.path.exists(ocr_dir)}\")\n",
        "\n",
        "# List classes (subdirectories)\n",
        "image_classes = sorted([d for d in os.listdir(image_dir) if os.path.isdir(os.path.join(image_dir, d))])\n",
        "ocr_classes = sorted([d for d in os.listdir(ocr_dir) if os.path.isdir(os.path.join(ocr_dir, d))])\n",
        "\n",
        "print(f\"\\nImage classes: {image_classes}\")\n",
        "print(f\"OCR classes: {ocr_classes}\")\n"
      ]
    },
    {
      "cell_type": "markdown",
      "metadata": {},
      "source": [
        "## 2. Data Distribution\n",
        "\n",
        "Let's check how many files we have for each class."
      ]
    },
    {
      "cell_type": "code",
      "execution_count": 3,
      "metadata": {},
      "outputs": [
        {
          "data": {
            "text/html": [
              "<div>\n",
              "<style scoped>\n",
              "    .dataframe tbody tr th:only-of-type {\n",
              "        vertical-align: middle;\n",
              "    }\n",
              "\n",
              "    .dataframe tbody tr th {\n",
              "        vertical-align: top;\n",
              "    }\n",
              "\n",
              "    .dataframe thead th {\n",
              "        text-align: right;\n",
              "    }\n",
              "</style>\n",
              "<table border=\"1\" class=\"dataframe\">\n",
              "  <thead>\n",
              "    <tr style=\"text-align: right;\">\n",
              "      <th></th>\n",
              "      <th>Class</th>\n",
              "      <th>Image Count</th>\n",
              "      <th>OCR Count</th>\n",
              "    </tr>\n",
              "  </thead>\n",
              "  <tbody>\n",
              "    <tr>\n",
              "      <th>0</th>\n",
              "      <td>0</td>\n",
              "      <td>500</td>\n",
              "      <td>500</td>\n",
              "    </tr>\n",
              "    <tr>\n",
              "      <th>1</th>\n",
              "      <td>2</td>\n",
              "      <td>500</td>\n",
              "      <td>500</td>\n",
              "    </tr>\n",
              "    <tr>\n",
              "      <th>2</th>\n",
              "      <td>4</td>\n",
              "      <td>500</td>\n",
              "      <td>500</td>\n",
              "    </tr>\n",
              "    <tr>\n",
              "      <th>3</th>\n",
              "      <td>6</td>\n",
              "      <td>500</td>\n",
              "      <td>500</td>\n",
              "    </tr>\n",
              "    <tr>\n",
              "      <th>4</th>\n",
              "      <td>9</td>\n",
              "      <td>500</td>\n",
              "      <td>500</td>\n",
              "    </tr>\n",
              "  </tbody>\n",
              "</table>\n",
              "</div>"
            ],
            "text/plain": [
              "  Class  Image Count  OCR Count\n",
              "0     0          500        500\n",
              "1     2          500        500\n",
              "2     4          500        500\n",
              "3     6          500        500\n",
              "4     9          500        500"
            ]
          },
          "metadata": {},
          "output_type": "display_data"
        },
        {
          "name": "stdout",
          "output_type": "stream",
          "text": [
            "No mismatches found - all classes have equal numbers of image and OCR files.\n"
          ]
        }
      ],
      "source": [
        "# Count files per class\n",
        "image_counts = {cls: len(glob.glob(os.path.join(image_dir, cls, '*.TIF'))) for cls in image_classes}\n",
        "ocr_counts = {cls: len(glob.glob(os.path.join(ocr_dir, cls, '*.TIF.txt'))) for cls in ocr_classes}\n",
        "\n",
        "# Combine and display\n",
        "counts_df = pd.DataFrame({\n",
        "    'Class': list(image_counts.keys()),\n",
        "    'Image Count': list(image_counts.values()),\n",
        "    'OCR Count': [ocr_counts.get(cls, 0) for cls in image_counts.keys()]\n",
        "})\n",
        "display(counts_df)\n",
        "\n",
        "# Check for mismatches\n",
        "mismatch = counts_df[counts_df['Image Count'] != counts_df['OCR Count']]\n",
        "if mismatch.empty:\n",
        "    print(\"No mismatches found - all classes have equal numbers of image and OCR files.\")\n",
        "else:\n",
        "    print(\"Mismatches detected:\")\n",
        "    display(mismatch)\n"
      ]
    },
    {
      "cell_type": "markdown",
      "metadata": {},
      "source": [
        "## 3. Sample Loading\n",
        "\n",
        "Let's load a few samples from each class to examine them."
      ]
    },
    {
      "cell_type": "code",
      "execution_count": 4,
      "metadata": {},
      "outputs": [
        {
          "name": "stdout",
          "output_type": "stream",
          "text": [
            "Loaded 25 samples across 5 classes\n"
          ]
        },
        {
          "data": {
            "text/html": [
              "<div>\n",
              "<style scoped>\n",
              "    .dataframe tbody tr th:only-of-type {\n",
              "        vertical-align: middle;\n",
              "    }\n",
              "\n",
              "    .dataframe tbody tr th {\n",
              "        vertical-align: top;\n",
              "    }\n",
              "\n",
              "    .dataframe thead th {\n",
              "        text-align: right;\n",
              "    }\n",
              "</style>\n",
              "<table border=\"1\" class=\"dataframe\">\n",
              "  <thead>\n",
              "    <tr style=\"text-align: right;\">\n",
              "      <th></th>\n",
              "      <th>class</th>\n",
              "      <th>image_path</th>\n",
              "      <th>ocr_text</th>\n",
              "    </tr>\n",
              "  </thead>\n",
              "  <tbody>\n",
              "    <tr>\n",
              "      <th>0</th>\n",
              "      <td>0</td>\n",
              "      <td>../data/images/0/cdac0414-e5c0-409d-b397-f4552...</td>\n",
              "      <td>\\n\\n \\n\\n“Clem Ban ips Cow,\\n\\n1693 ot yt oe\\...</td>\n",
              "    </tr>\n",
              "    <tr>\n",
              "      <th>1</th>\n",
              "      <td>0</td>\n",
              "      <td>../data/images/0/77befd48-9f17-405b-9a0a-66a66...</td>\n",
              "      <td>\\n\\nCORROON &amp; BLACK COMPANY OF NEW YORK, INC....</td>\n",
              "    </tr>\n",
              "    <tr>\n",
              "      <th>2</th>\n",
              "      <td>0</td>\n",
              "      <td>../data/images/0/b58f3dde-75cd-4a77-ad28-2fbb9...</td>\n",
              "      <td>\\n\\nPHILIP MORRIS\\n\\nRESEARCH CENTER, RICHMON...</td>\n",
              "    </tr>\n",
              "    <tr>\n",
              "      <th>3</th>\n",
              "      <td>0</td>\n",
              "      <td>../data/images/0/60d1fe91-219a-49db-a3c1-d1f4d...</td>\n",
              "      <td>\\n\\n \\n\\nSeptenber 2, 1982\\n\\nHrs J. A. Johen...</td>\n",
              "    </tr>\n",
              "    <tr>\n",
              "      <th>4</th>\n",
              "      <td>0</td>\n",
              "      <td>../data/images/0/0849fc29-99d4-4b81-a1e9-fb0ca...</td>\n",
              "      <td>\\n\\n \\n\\nTHE TOBACCO INSTITUTE\\n\\n1475 1 STRE...</td>\n",
              "    </tr>\n",
              "  </tbody>\n",
              "</table>\n",
              "</div>"
            ],
            "text/plain": [
              "  class                                         image_path  \\\n",
              "0     0  ../data/images/0/cdac0414-e5c0-409d-b397-f4552...   \n",
              "1     0  ../data/images/0/77befd48-9f17-405b-9a0a-66a66...   \n",
              "2     0  ../data/images/0/b58f3dde-75cd-4a77-ad28-2fbb9...   \n",
              "3     0  ../data/images/0/60d1fe91-219a-49db-a3c1-d1f4d...   \n",
              "4     0  ../data/images/0/0849fc29-99d4-4b81-a1e9-fb0ca...   \n",
              "\n",
              "                                            ocr_text  \n",
              "0   \\n\\n \\n\\n“Clem Ban ips Cow,\\n\\n1693 ot yt oe\\...  \n",
              "1   \\n\\nCORROON & BLACK COMPANY OF NEW YORK, INC....  \n",
              "2   \\n\\nPHILIP MORRIS\\n\\nRESEARCH CENTER, RICHMON...  \n",
              "3   \\n\\n \\n\\nSeptenber 2, 1982\\n\\nHrs J. A. Johen...  \n",
              "4   \\n\\n \\n\\nTHE TOBACCO INSTITUTE\\n\\n1475 1 STRE...  "
            ]
          },
          "execution_count": 4,
          "metadata": {},
          "output_type": "execute_result"
        }
      ],
      "source": [
        "def load_samples(num_per_class=5):\n",
        "    samples = []\n",
        "    for cls in image_classes:\n",
        "        image_files = glob.glob(os.path.join(image_dir, cls, '*.TIF'))[:num_per_class]\n",
        "        for img_path in image_files:\n",
        "            basename = os.path.basename(img_path)\n",
        "            ocr_path = os.path.join(ocr_dir, cls, basename + '.txt')\n",
        "            ocr_text = None\n",
        "            if os.path.exists(ocr_path):\n",
        "                with open(ocr_path, 'r', encoding='utf-8', errors='ignore') as f:\n",
        "                    ocr_text = f.read()\n",
        "            samples.append({'class': cls, 'image_path': img_path, 'ocr_text': ocr_text})\n",
        "    return pd.DataFrame(samples)\n",
        "\n",
        "samples_df = load_samples()\n",
        "print(f\"Loaded {len(samples_df)} samples across {len(samples_df['class'].unique())} classes\")\n",
        "samples_df.head()\n"
      ]
    },
    {
      "cell_type": "markdown",
      "metadata": {},
      "source": [
        "## 4. Image Analysis\n",
        "\n",
        "Let's analyze the characteristics of our image data."
      ]
    },
    {
      "cell_type": "code",
      "execution_count": 5,
      "metadata": {},
      "outputs": [
        {
          "name": "stdout",
          "output_type": "stream",
          "text": [
            "       height       width  channels\n",
            "count    25.0   25.000000      25.0\n",
            "mean   1000.0  753.240000       1.0\n",
            "std       0.0   48.387567       0.0\n",
            "min    1000.0  611.000000       1.0\n",
            "25%    1000.0  754.000000       1.0\n",
            "50%    1000.0  754.000000       1.0\n",
            "75%    1000.0  771.000000       1.0\n",
            "max    1000.0  864.000000       1.0\n"
          ]
        },
        {
          "data": {
            "image/png": "[encoded data removed]",
            "text/plain": [
              "<Figure size 1200x800 with 1 Axes>"
            ]
          },
          "metadata": {},
          "output_type": "display_data"
        }
      ],
      "source": [
        "def analyze_image(image_path):\n",
        "    img = cv2.imread(image_path, cv2.IMREAD_UNCHANGED)\n",
        "    h, w = img.shape[:2]\n",
        "    channels = 1 if len(img.shape) == 2 else img.shape[2]\n",
        "    return h, w, channels\n",
        "\n",
        "stats = samples_df['image_path'].apply(lambda p: pd.Series(analyze_image(p), index=['height', 'width', 'channels']))\n",
        "samples_df = pd.concat([samples_df, stats], axis=1)\n",
        "\n",
        "print(samples_df[['height', 'width', 'channels']].describe())\n",
        "\n",
        "plt.scatter(samples_df['width'], samples_df['height'], alpha=0.6)\n",
        "plt.xlabel('Width')\n",
        "plt.ylabel('Height')\n",
        "plt.title('Image Dimensions Scatter')\n",
        "plt.show()\n"
      ]
    },
    {
      "cell_type": "markdown",
      "metadata": {},
      "source": [
        "## 5. Text Analysis\n",
        "\n",
        "Now let's examine the OCR text data."
      ]
    },
    {
      "cell_type": "code",
      "execution_count": 6,
      "metadata": {},
      "outputs": [
        {
          "name": "stdout",
          "output_type": "stream",
          "text": [
            "       text_length  word_count\n",
            "count     25.00000   25.000000\n",
            "mean    1417.16000  226.120000\n",
            "std     1568.08691  259.348434\n",
            "min        3.00000    0.000000\n",
            "25%      109.00000   18.000000\n",
            "50%      901.00000  144.000000\n",
            "75%     2364.00000  366.000000\n",
            "max     5508.00000  908.000000\n"
          ]
        },
        {
          "data": {
            "image/png": "[encoded data removed]",
            "text/plain": [
              "<Figure size 1200x800 with 1 Axes>"
            ]
          },
          "metadata": {},
          "output_type": "display_data"
        }
      ],
      "source": [
        "samples_df['text_length'] = samples_df['ocr_text'].apply(lambda x: len(x) if x else 0)\n",
        "samples_df['word_count'] = samples_df['ocr_text'].apply(lambda x: len(x.split()) if x else 0)\n",
        "\n",
        "print(samples_df[['text_length', 'word_count']].describe())\n",
        "\n",
        "sns.boxplot(x='word_count', data=samples_df)\n",
        "plt.title('Distribution of Word Counts')\n",
        "plt.show()\n"
      ]
    },
    {
      "cell_type": "markdown",
      "metadata": {},
      "source": [
        "Let's look at the most common words in each class."
      ]
    },
    {
      "cell_type": "code",
      "execution_count": 7,
      "metadata": {},
      "outputs": [
        {
          "name": "stdout",
          "output_type": "stream",
          "text": [
            "\n",
            "Most common words for class 0:\n",
            "october: 7\n",
            "new: 6\n",
            "york: 5\n",
            "mr: 5\n",
            "cgl: 5\n",
            "section: 5\n",
            "revised: 5\n",
            "exhibit: 5\n",
            "crop: 5\n",
            "philip: 4\n",
            "morris: 4\n",
            "please: 4\n",
            "loss: 4\n",
            "room: 4\n",
            "vice: 4\n",
            "president: 4\n",
            "grade: 4\n",
            "ban: 3\n",
            "street: 3\n",
            "ny: 3\n",
            "\n",
            "Most common words for class 2:\n",
            "subject: 4\n",
            "pm: 3\n",
            "military: 3\n",
            "rick: 3\n",
            "mike: 2\n",
            "bogusta: 2\n",
            "marlboro: 2\n",
            "james: 2\n",
            "kathleen: 2\n",
            "michelle: 2\n",
            "smith: 2\n",
            "ann: 2\n",
            "sorry: 2\n",
            "cassette: 2\n",
            "dont: 2\n",
            "great: 2\n",
            "mary: 2\n",
            "denise: 2\n",
            "michael: 2\n",
            "mark: 2\n",
            "\n",
            "Most common words for class 4:\n",
            "trothtcten: 1\n",
            "vehicle: 1\n",
            "recommend: 1\n",
            "answer: 1\n",
            "fo: 1\n",
            "bch: 1\n",
            "\n",
            "Most common words for class 6:\n",
            "smoke: 24\n",
            "cigarette: 16\n",
            "tobacco: 13\n",
            "sv: 9\n",
            "research: 8\n",
            "ae: 8\n",
            "nicotine: 8\n",
            "subfractions: 7\n",
            "new: 7\n",
            "smoking: 7\n",
            "compounds: 7\n",
            "york: 6\n",
            "usa: 6\n",
            "ss: 6\n",
            "filtration: 6\n",
            "filter: 6\n",
            "compound: 6\n",
            "tpm: 6\n",
            "analysis: 5\n",
            "te: 5\n",
            "\n",
            "Most common words for class 9:\n",
            "tobacco: 20\n",
            "smoking: 16\n",
            "smokers: 15\n",
            "north: 13\n",
            "carolina: 9\n",
            "cigarettes: 9\n",
            "year: 9\n",
            "ing: 7\n",
            "million: 7\n",
            "cigarette: 7\n",
            "new: 7\n",
            "people: 7\n",
            "accidents: 6\n",
            "milion: 6\n",
            "pounds: 6\n",
            "last: 6\n",
            "also: 6\n",
            "project: 6\n",
            "state: 5\n",
            "county: 5\n"
          ]
        }
      ],
      "source": [
        "def get_common_words(texts, n=20):\n",
        "    words = re.sub(r'[^a-zA-Z\\s]', '', texts.lower()).split()\n",
        "    stop_words = set(stopwords.words('english'))\n",
        "    filtered = [w for w in words if w not in stop_words and len(w) > 1]\n",
        "    return Counter(filtered).most_common(n)\n",
        "\n",
        "for cls in samples_df['class'].unique():\n",
        "    all_text = ' '.join(samples_df[samples_df['class'] == cls]['ocr_text'].dropna())\n",
        "    print(f\"\\nMost common words for class {cls}:\")\n",
        "    for word, count in get_common_words(all_text):\n",
        "        print(f\"{word}: {count}\")\n"
      ]
    },
    {
      "cell_type": "markdown",
      "metadata": {},
      "source": [
        "## 6. Further Analysis and Next Steps\n",
        "\n",
        "Fill in observations here after running exploratory steps."
      ]
    }
  ],
  "metadata": {
    "kernelspec": {
      "display_name": "venv",
      "language": "python",
      "name": "python3"
    },
    "language_info": {
      "codemirror_mode": {
        "name": "ipython",
        "version": 3
      },
      "file_extension": ".py",
      "mimetype": "text/x-python",
      "name": "python",
      "nbconvert_exporter": "python",
      "pygments_lexer": "ipython3",
      "version": "3.11.7"
    }
  },
  "nbformat": 4,
  "nbformat_minor": 4
}
